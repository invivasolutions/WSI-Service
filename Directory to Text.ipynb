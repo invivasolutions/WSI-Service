{
 "cells": [
  {
   "cell_type": "markdown",
   "id": "8dc0c46a-d6d7-41da-b2f3-6d0069644fed",
   "metadata": {},
   "source": [
    "# Directory to Text\n",
    "This quickly echos out a directory structure in text for emails or whatever"
   ]
  },
  {
   "cell_type": "code",
   "execution_count": 1,
   "id": "9fe9317b-88ff-453a-a6a7-e6fb65a0d61f",
   "metadata": {},
   "outputs": [
    {
     "name": "stdout",
     "output_type": "stream",
     "text": [
      "├── data/\n",
      "    ├── 81fe29df-cc70-40a5-adb8-3a345d18cd1a/\n",
      "        └── f12cee5e-50f2-417a-9a00-7ac00e7f61eb.ndpi\n",
      "    ├── a77b87e0-1501-4ef6-a834-88cd004a75b1/\n",
      "        └── 2429b94a-cd0d-4cb5-90bc-eab123fce5cb.ndpi\n",
      "    ├── de0ff3fa-dec5-4d63-a81a-21856ad12a9f/\n",
      "        └── ca009f02-16ac-412b-86d5-b427df4dd64c.ndpi\n",
      "        └── 6e3ec2f7-e503-43c2-b774-012594d55323.ndpi\n",
      "        └── 02b36ffd-6cb2-4230-9493-9d0ffd1f44a5.ndpi\n",
      "        └── 68828cd3-e384-472f-99d0-ffe28f36fefe.ndpi\n",
      "    ├── a145331a-83b5-4161-85db-328e81c5e7ce/\n",
      "        └── 509b2bf4-353c-4088-aefc-64d1009afbfe.ndpi\n",
      "    ├── da9f7930-d59e-495b-9db8-e0ffadf21815/\n",
      "        └── 3bf65ab2-881c-4eed-a4a3-b8a6ceff903d.ndpi\n"
     ]
    }
   ],
   "source": [
    "import os\n",
    "\n",
    "def generate_folder_structure(startpath):\n",
    "    for root, dirs, files in os.walk(startpath):\n",
    "        level = root.replace(startpath, '').count(os.sep)\n",
    "        indent = ' ' * 4 * level\n",
    "        print(f'{indent}├── {os.path.basename(root)}/')\n",
    "        subindent = ' ' * 4 * (level + 1)\n",
    "        for f in files:\n",
    "            print(f'{subindent}└── {f}')\n",
    "\n",
    "# Call the function with your target folder path\n",
    "generate_folder_structure('data')"
   ]
  },
  {
   "cell_type": "code",
   "execution_count": null,
   "id": "21d6dca7-c7d6-42d7-908e-bf5e45fd177e",
   "metadata": {},
   "outputs": [],
   "source": []
  }
 ],
 "metadata": {
  "kernelspec": {
   "display_name": "Python 3 (ipykernel)",
   "language": "python",
   "name": "python3"
  },
  "language_info": {
   "codemirror_mode": {
    "name": "ipython",
    "version": 3
   },
   "file_extension": ".py",
   "mimetype": "text/x-python",
   "name": "python",
   "nbconvert_exporter": "python",
   "pygments_lexer": "ipython3",
   "version": "3.10.14"
  }
 },
 "nbformat": 4,
 "nbformat_minor": 5
}
