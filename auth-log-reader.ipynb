{
 "cells": [
  {
   "cell_type": "markdown",
   "id": "c724bb8b-61e6-448e-a557-382b40492f34",
   "metadata": {},
   "source": [
    "# Auth Log reader\n",
    "Let's just try looking at one that came from my server as practice"
   ]
  },
  {
   "cell_type": "code",
   "execution_count": 2,
   "id": "8d22f6b0-d376-4b99-8e57-3f3fac6d5096",
   "metadata": {},
   "outputs": [
    {
     "name": "stdout",
     "output_type": "stream",
     "text": [
      "{'auth_payload': 'None', 'slide_id': '1027f5d5717058dbb6e31d4092132d78', 'manager': '<wsi_service.slide_manager.SlideManager object at 0x7c87f0ce0550>', 'plugin': 'None', 'slide': 'None'}\n"
     ]
    }
   ],
   "source": [
    "from pathlib import Path\n",
    "import pickle \n",
    "\n",
    "authlogs = list(Path(\"data/auth_logs/\").glob(\"*.pkl\"))\n",
    "\n",
    "with open(authlogs[0], 'rb') as f:\n",
    "    data = pickle.load(f)\n",
    "\n",
    "# Inspect the data\n",
    "print(data)"
   ]
  },
  {
   "cell_type": "code",
   "execution_count": null,
   "id": "9e27c3ef-76df-4a8a-9cee-ed8328a5b631",
   "metadata": {},
   "outputs": [],
   "source": []
  }
 ],
 "metadata": {
  "kernelspec": {
   "display_name": "Python 3 (ipykernel)",
   "language": "python",
   "name": "python3"
  },
  "language_info": {
   "codemirror_mode": {
    "name": "ipython",
    "version": 3
   },
   "file_extension": ".py",
   "mimetype": "text/x-python",
   "name": "python",
   "nbconvert_exporter": "python",
   "pygments_lexer": "ipython3",
   "version": "3.10.14"
  }
 },
 "nbformat": 4,
 "nbformat_minor": 5
}
