{
 "cells": [
  {
   "cell_type": "markdown",
   "id": "c724bb8b-61e6-448e-a557-382b40492f34",
   "metadata": {},
   "source": [
    "# Auth Log reader\n",
    "Let's just try looking at one that came from my server as practice"
   ]
  },
  {
   "cell_type": "code",
   "execution_count": 1,
   "id": "3deefc76-0afa-43f0-95ab-64611c832b54",
   "metadata": {},
   "outputs": [],
   "source": [
    "import os\n",
    "from datetime import datetime\n",
    "\n",
    "def extract_timestamp(filename: str) -> str:\n",
    "    # Extract the base filename without the directory\n",
    "    base_name = os.path.basename(filename)\n",
    "    \n",
    "    # Split the filename to extract the timestamp part (assumes it's after 'auth_data_')\n",
    "    timestamp_str = base_name.split('_')[2].replace('.pkl', '')\n",
    "    \n",
    "    # Convert to float (to handle sub-second precision)\n",
    "    timestamp = float(timestamp_str)\n",
    "    \n",
    "    # Convert the timestamp to a human-readable datetime format\n",
    "    readable_time = datetime.fromtimestamp(timestamp).strftime('%Y-%m-%d %H:%M:%S') \n",
    "    \n",
    "    return readable_time"
   ]
  },
  {
   "cell_type": "code",
   "execution_count": 4,
   "id": "8d22f6b0-d376-4b99-8e57-3f3fac6d5096",
   "metadata": {},
   "outputs": [
    {
     "name": "stdout",
     "output_type": "stream",
     "text": [
      "File: data/auth_logs_aman/auth_data_1728043852.251.pkl Time Saved: 2024-10-04 13:10:52\n",
      "{'auth_payload': 'None', 'slide_id': '82f04d466c2d5dcbae674e817caed0d7', 'plugin': 'None', 'slide': \"SlideInfo(id='82f04d466c2d5dcbae674e817caed0d7', channels=[SlideChannel(id=0, name='Red', color=SlideColor(r=255, g=0, b=0, a=0)), SlideChannel(id=1, name='Green', color=SlideColor(r=0, g=255, b=0, a=0)), SlideChannel(id=2, name='Blue', color=SlideColor(r=0, g=0, b=255, a=0))], channel_depth=8, extent=SlideExtent(x=13440, y=11520, z=1), num_levels=5, pixel_size_nm=SlidePixelSizeNm(x=459.7067071208569, y=459.7278411180581, z=None), tile_extent=SlideExtent(x=256, y=256, z=1), levels=[SlideLevel(extent=SlideExtent(x=13440, y=11520, z=1), downsample_factor=1.0), SlideLevel(extent=SlideExtent(x=6720, y=5760, z=1), downsample_factor=2.0), SlideLevel(extent=SlideExtent(x=3360, y=2880, z=1), downsample_factor=4.0), SlideLevel(extent=SlideExtent(x=1680, y=1440, z=1), downsample_factor=8.0), SlideLevel(extent=SlideExtent(x=840, y=720, z=1), downsample_factor=16.0)], format='file-ndpi-hamamatsu-tiffslide', raw_download=True)\"}\n"
     ]
    }
   ],
   "source": [
    "from pathlib import Path\n",
    "import pickle \n",
    "\n",
    "authlogs = list(Path(\"data/auth_logs_aman/\").glob(\"*.pkl\"))\n",
    "\n",
    "with open(authlogs[0], 'rb') as f:\n",
    "    data = pickle.load(f)\n",
    "\n",
    "# Inspect the data\n",
    "print(f\"File: {authlogs[0]} Time Saved: {extract_timestamp(authlogs[0])}\")\n",
    "print(data)"
   ]
  },
  {
   "cell_type": "code",
   "execution_count": 3,
   "id": "9e27c3ef-76df-4a8a-9cee-ed8328a5b631",
   "metadata": {},
   "outputs": [],
   "source": [
    "for log in authlogs:\n",
    "    with open(log, 'rb') as f:\n",
    "        data = pickle.load(f)\n",
    "    if data['auth_payload'] != 'None':\n",
    "        print(data)"
   ]
  },
  {
   "cell_type": "code",
   "execution_count": null,
   "id": "78922d96-6d75-4cb0-8df5-fd9ca9e9b7ea",
   "metadata": {},
   "outputs": [],
   "source": []
  }
 ],
 "metadata": {
  "kernelspec": {
   "display_name": "Python 3 (ipykernel)",
   "language": "python",
   "name": "python3"
  },
  "language_info": {
   "codemirror_mode": {
    "name": "ipython",
    "version": 3
   },
   "file_extension": ".py",
   "mimetype": "text/x-python",
   "name": "python",
   "nbconvert_exporter": "python",
   "pygments_lexer": "ipython3",
   "version": "3.10.14"
  }
 },
 "nbformat": 4,
 "nbformat_minor": 5
}
